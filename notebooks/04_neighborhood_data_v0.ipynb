{
 "cells": [
  {
   "cell_type": "code",
   "execution_count": 1,
   "metadata": {},
   "outputs": [
    {
     "name": "stderr",
     "output_type": "stream",
     "text": [
      "/home/rohan/miniconda3/envs/txtox-torch-gpu/lib/python3.12/site-packages/anndata/_core/aligned_df.py:68: ImplicitModificationWarning: Transforming to str index.\n",
      "  warnings.warn(\"Transforming to str index.\", ImplicitModificationWarning)\n"
     ]
    }
   ],
   "source": [
    "# notebook to generate VISp_neighbor_stats_v0.h5ad\n",
    "\n",
    "import anndata as ad\n",
    "import numpy as np\n",
    "import pandas as pd\n",
    "import scipy.sparse as sp\n",
    "from sklearn.neighbors import NearestNeighbors\n",
    "\n",
    "from txtox.utils import get_paths\n",
    "\n",
    "path = get_paths()[\"data_root\"] + \"VISp.h5ad\"\n",
    "adata = ad.read_h5ad(path)\n",
    "\n",
    "k = 15\n",
    "\n",
    "xyz_coords = adata.obs[[\"x_section\", \"y_section\", \"z_section\"]].values\n",
    "nn = NearestNeighbors(n_neighbors=k + 1, metric=\"euclidean\")  # 16 because it includes the point itself\n",
    "nn.fit(xyz_coords)\n",
    "\n",
    "\n",
    "def get_top_k_neighbors(row_index):\n",
    "    distances, indices = nn.kneighbors(xyz_coords[row_index].reshape(1, -1))\n",
    "    return indices[0][1:]  # excludes the point itself\n",
    "\n",
    "\n",
    "neighbor_indices = [get_top_k_neighbors(i) for i in range(len(adata.obs))]\n",
    "neighbor_indices = np.vstack(neighbor_indices)"
   ]
  },
  {
   "cell_type": "code",
   "execution_count": 2,
   "metadata": {},
   "outputs": [],
   "source": [
    "# keep only non-blank entries\n",
    "blank_genes = adata.var[\"gene_symbol\"].str.startswith(\"Blank\")\n",
    "X = adata.X.toarray()\n",
    "X_nonblank = X[:, ~blank_genes]\n",
    "\n",
    "X_neighbors = X_nonblank[neighbor_indices]  # shape (n_cells, n_neighbors, n_genes)\n",
    "assert X_neighbors.shape == (X_nonblank.shape[0], k, X_nonblank.shape[1])\n",
    "X_means = X_neighbors.mean(axis=1)  # shape (n_cells, n_genes)\n",
    "X_stds = X_neighbors.std(axis=1)  # shape (n_cells, n_genes)\n",
    "\n",
    "X = np.concatenate([X_nonblank, X_means, X_stds], axis=1)"
   ]
  },
  {
   "cell_type": "code",
   "execution_count": 3,
   "metadata": {},
   "outputs": [
    {
     "name": "stderr",
     "output_type": "stream",
     "text": [
      "/home/rohan/miniconda3/envs/txtox-torch-gpu/lib/python3.12/site-packages/anndata/_core/aligned_df.py:68: ImplicitModificationWarning: Transforming to str index.\n",
      "  warnings.warn(\"Transforming to str index.\", ImplicitModificationWarning)\n"
     ]
    }
   ],
   "source": [
    "gene_names = adata.var[\"gene_symbol\"][~blank_genes]\n",
    "gene_names = np.concatenate([\n",
    "    gene_names,\n",
    "    [f\"{gene}_mean\" for gene in gene_names],\n",
    "    [f\"{gene}_std\" for gene in gene_names],\n",
    "])\n",
    "var_df = pd.DataFrame({\"gene_symbol\": gene_names})\n",
    "adata_neighbor_stats_v0 = ad.AnnData(sp.csr_matrix(X), obs=adata.obs, var=var_df)"
   ]
  },
  {
   "cell_type": "code",
   "execution_count": 4,
   "metadata": {},
   "outputs": [],
   "source": [
    "data_path = get_paths()[\"data_root\"]\n",
    "adata_neighbor_stats_v0.write_h5ad(data_path + \"/VISp_neighbor_stats_v0.h5ad\")"
   ]
  },
  {
   "cell_type": "code",
   "execution_count": null,
   "metadata": {},
   "outputs": [],
   "source": [
    "# Get patches and their neighbors, put them in a separate file. This would be a reasonable validation set."
   ]
  }
 ],
 "metadata": {
  "kernelspec": {
   "display_name": "txtox-torch-gpu",
   "language": "python",
   "name": "python3"
  },
  "language_info": {
   "codemirror_mode": {
    "name": "ipython",
    "version": 3
   },
   "file_extension": ".py",
   "mimetype": "text/x-python",
   "name": "python",
   "nbconvert_exporter": "python",
   "pygments_lexer": "ipython3",
   "version": "3.12.0"
  }
 },
 "nbformat": 4,
 "nbformat_minor": 2
}
