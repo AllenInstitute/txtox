{
 "cells": [
  {
   "cell_type": "code",
   "execution_count": null,
   "metadata": {},
   "outputs": [
    {
     "data": {
      "text/html": [
       "<div>\n",
       "<style scoped>\n",
       "    .dataframe tbody tr th:only-of-type {\n",
       "        vertical-align: middle;\n",
       "    }\n",
       "\n",
       "    .dataframe tbody tr th {\n",
       "        vertical-align: top;\n",
       "    }\n",
       "\n",
       "    .dataframe thead th {\n",
       "        text-align: right;\n",
       "    }\n",
       "</style>\n",
       "<table border=\"1\" class=\"dataframe\">\n",
       "  <thead>\n",
       "    <tr style=\"text-align: right;\">\n",
       "      <th></th>\n",
       "      <th>x_section</th>\n",
       "      <th>y_section</th>\n",
       "      <th>z_section</th>\n",
       "      <th>subclass</th>\n",
       "    </tr>\n",
       "  </thead>\n",
       "  <tbody>\n",
       "    <tr>\n",
       "      <th>0</th>\n",
       "      <td>0.289193</td>\n",
       "      <td>-1.356731</td>\n",
       "      <td>1.0</td>\n",
       "      <td>5</td>\n",
       "    </tr>\n",
       "    <tr>\n",
       "      <th>1</th>\n",
       "      <td>10.618962</td>\n",
       "      <td>0.060141</td>\n",
       "      <td>1.0</td>\n",
       "      <td>0</td>\n",
       "    </tr>\n",
       "    <tr>\n",
       "      <th>2</th>\n",
       "      <td>0.270434</td>\n",
       "      <td>9.131705</td>\n",
       "      <td>1.0</td>\n",
       "      <td>4</td>\n",
       "    </tr>\n",
       "  </tbody>\n",
       "</table>\n",
       "</div>"
      ],
      "text/plain": [
       "   x_section  y_section  z_section subclass\n",
       "0   0.289193  -1.356731        1.0        5\n",
       "1  10.618962   0.060141        1.0        0\n",
       "2   0.270434   9.131705        1.0        4"
      ]
     },
     "metadata": {},
     "output_type": "display_data"
    }
   ],
   "source": [
    "import anndata as ad\n",
    "import numpy as np\n",
    "import pandas as pd\n",
    "import scanpy as sc\n",
    "from sklearn.neighbors import KNeighborsTransformer\n",
    "from torchvision.datasets import MNIST\n",
    "from umap import UMAP\n",
    "import seaborn as sns\n",
    "\n",
    "from txtox.utils import get_paths\n",
    "\n",
    "paths = get_paths()\n",
    "\n",
    "raw_data = MNIST(\"mnist\", download=True)\n",
    "(images, labels) = zip(*raw_data)\n",
    "images = np.asarray(images) / 255\n",
    "X = images.reshape(len(images), -1)\n",
    "\n",
    "Y = UMAP(n_components=2, min_dist=0.8, n_neighbors=15).fit_transform(X)\n",
    "Y = (Y - Y.mean(axis=0)) / Y.std(axis=0)\n",
    "Y = Y * 5\n",
    "Y = np.concatenate((Y, np.ones((Y.shape[0], 1))), axis=1)\n",
    "\n",
    "labels = np.asarray(labels)\n",
    "\n",
    "obs = pd.DataFrame(columns=[\"x_section\", \"y_section\", \"z_section\"], data=Y)\n",
    "obs[\"subclass\"] = labels\n",
    "obs[\"subclass\"] = obs[\"subclass\"].astype(\"category\")\n",
    "display(obs.head(3))"
   ]
  },
  {
   "cell_type": "code",
   "execution_count": 2,
   "metadata": {},
   "outputs": [
    {
     "data": {
      "text/html": [
       "<div>\n",
       "<style scoped>\n",
       "    .dataframe tbody tr th:only-of-type {\n",
       "        vertical-align: middle;\n",
       "    }\n",
       "\n",
       "    .dataframe tbody tr th {\n",
       "        vertical-align: top;\n",
       "    }\n",
       "\n",
       "    .dataframe thead th {\n",
       "        text-align: right;\n",
       "    }\n",
       "</style>\n",
       "<table border=\"1\" class=\"dataframe\">\n",
       "  <thead>\n",
       "    <tr style=\"text-align: right;\">\n",
       "      <th></th>\n",
       "      <th>x_section</th>\n",
       "      <th>y_section</th>\n",
       "      <th>z_section</th>\n",
       "    </tr>\n",
       "  </thead>\n",
       "  <tbody>\n",
       "    <tr>\n",
       "      <th>count</th>\n",
       "      <td>60000.000000</td>\n",
       "      <td>60000.000000</td>\n",
       "      <td>60000.0</td>\n",
       "    </tr>\n",
       "    <tr>\n",
       "      <th>mean</th>\n",
       "      <td>-0.000005</td>\n",
       "      <td>-0.000003</td>\n",
       "      <td>1.0</td>\n",
       "    </tr>\n",
       "    <tr>\n",
       "      <th>std</th>\n",
       "      <td>5.000069</td>\n",
       "      <td>5.000065</td>\n",
       "      <td>0.0</td>\n",
       "    </tr>\n",
       "    <tr>\n",
       "      <th>min</th>\n",
       "      <td>-8.996947</td>\n",
       "      <td>-12.954169</td>\n",
       "      <td>1.0</td>\n",
       "    </tr>\n",
       "    <tr>\n",
       "      <th>25%</th>\n",
       "      <td>-3.733734</td>\n",
       "      <td>-3.192264</td>\n",
       "      <td>1.0</td>\n",
       "    </tr>\n",
       "    <tr>\n",
       "      <th>50%</th>\n",
       "      <td>-0.696206</td>\n",
       "      <td>0.263520</td>\n",
       "      <td>1.0</td>\n",
       "    </tr>\n",
       "    <tr>\n",
       "      <th>75%</th>\n",
       "      <td>2.760081</td>\n",
       "      <td>3.411531</td>\n",
       "      <td>1.0</td>\n",
       "    </tr>\n",
       "    <tr>\n",
       "      <th>max</th>\n",
       "      <td>12.853412</td>\n",
       "      <td>10.896443</td>\n",
       "      <td>1.0</td>\n",
       "    </tr>\n",
       "  </tbody>\n",
       "</table>\n",
       "</div>"
      ],
      "text/plain": [
       "          x_section     y_section  z_section\n",
       "count  60000.000000  60000.000000    60000.0\n",
       "mean      -0.000005     -0.000003        1.0\n",
       "std        5.000069      5.000065        0.0\n",
       "min       -8.996947    -12.954169        1.0\n",
       "25%       -3.733734     -3.192264        1.0\n",
       "50%       -0.696206      0.263520        1.0\n",
       "75%        2.760081      3.411531        1.0\n",
       "max       12.853412     10.896443        1.0"
      ]
     },
     "execution_count": 2,
     "metadata": {},
     "output_type": "execute_result"
    }
   ],
   "source": [
    "obs.describe()"
   ]
  },
  {
   "cell_type": "code",
   "execution_count": 3,
   "metadata": {},
   "outputs": [],
   "source": [
    "obs.index=obs.index.astype(str)"
   ]
  },
  {
   "cell_type": "code",
   "execution_count": null,
   "metadata": {},
   "outputs": [],
   "source": [
    "adata = ad.AnnData(X=X, obs=obs)\n",
    "adata.obsm[\"spatial\"] = adata.obs[[\"x_section\", \"y_section\", \"z_section\"]].values\n",
    "sc.pp.neighbors(\n",
    "    adata,\n",
    "    n_neighbors=15,\n",
    "    n_pcs=None,\n",
    "    use_rep=\"spatial\",\n",
    "    knn=True,\n",
    "    transformer=KNeighborsTransformer(n_neighbors=15, metric=\"minkowski\", p=2),\n",
    "    key_added=\"spatial\",\n",
    "    copy=False,\n",
    ")\n",
    "\n",
    "unique_subclasses = adata.obs[\"subclass\"].unique()\n",
    "pastel_palette = sns.color_palette(\"pastel\", len(unique_subclasses))\n",
    "subclass_color_map = dict(zip(unique_subclasses, pastel_palette))\n",
    "adata.obs[\"subclass_color\"] = adata.obs[\"subclass\"].astype(int).map(subclass_color_map)\n",
    "\n",
    "\n",
    "adata.write_h5ad(paths[\"data_root\"] + \"mnist.h5ad\")"
   ]
  },
  {
   "cell_type": "code",
   "execution_count": 5,
   "metadata": {},
   "outputs": [
    {
     "data": {
      "text/plain": [
       "AnnData object with n_obs × n_vars = 60000 × 784\n",
       "    obs: 'x_section', 'y_section', 'z_section', 'subclass'\n",
       "    uns: 'spatial'\n",
       "    obsm: 'spatial'\n",
       "    obsp: 'spatial_distances', 'spatial_connectivities'"
      ]
     },
     "execution_count": 5,
     "metadata": {},
     "output_type": "execute_result"
    }
   ],
   "source": [
    "adata"
   ]
  }
 ],
 "metadata": {
  "kernelspec": {
   "display_name": "txtox-torch-gpu",
   "language": "python",
   "name": "python3"
  },
  "language_info": {
   "codemirror_mode": {
    "name": "ipython",
    "version": 3
   },
   "file_extension": ".py",
   "mimetype": "text/x-python",
   "name": "python",
   "nbconvert_exporter": "python",
   "pygments_lexer": "ipython3",
   "version": "3.12.0"
  }
 },
 "nbformat": 4,
 "nbformat_minor": 2
}
