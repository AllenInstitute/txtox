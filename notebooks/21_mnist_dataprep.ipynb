{
 "cells": [
  {
   "cell_type": "code",
   "execution_count": null,
   "metadata": {},
   "outputs": [],
   "source": [
    "import anndata as ad\n",
    "import numpy as np\n",
    "import pandas as pd\n",
    "import scanpy as sc\n",
    "import seaborn as sns\n",
    "from sklearn.neighbors import KNeighborsTransformer\n",
    "from torchvision.datasets import MNIST\n",
    "from umap import UMAP\n",
    "\n",
    "from txtox.utils import get_paths\n",
    "\n",
    "paths = get_paths()\n",
    "\n",
    "raw_data = MNIST(\"mnist\", download=True)\n",
    "(images, labels) = zip(*raw_data)\n",
    "images = np.asarray(images) / 255\n",
    "X = images.reshape(len(images), -1)\n",
    "\n",
    "Y = UMAP(n_components=2, min_dist=0.8, n_neighbors=15, random_state=0).fit_transform(X)\n",
    "Y = (Y - Y.mean(axis=0)) / Y.std(axis=0)\n",
    "Y = Y * 5\n",
    "Y = np.concatenate((Y, np.ones((Y.shape[0], 1))), axis=1)\n",
    "\n",
    "labels = np.asarray(labels)\n",
    "\n",
    "obs = pd.DataFrame(columns=[\"x_section\", \"y_section\", \"z_section\"], data=Y)\n",
    "obs[\"subclass\"] = labels\n",
    "obs[\"subclass\"] = obs[\"subclass\"].astype(\"category\")\n",
    "display(obs.head(3))"
   ]
  },
  {
   "cell_type": "code",
   "execution_count": null,
   "metadata": {},
   "outputs": [],
   "source": [
    "obs.describe()"
   ]
  },
  {
   "cell_type": "code",
   "execution_count": null,
   "metadata": {},
   "outputs": [],
   "source": [
    "obs.index = obs.index.astype(str)"
   ]
  },
  {
   "cell_type": "code",
   "execution_count": null,
   "metadata": {},
   "outputs": [],
   "source": [
    "adata"
   ]
  },
  {
   "cell_type": "code",
   "execution_count": null,
   "metadata": {},
   "outputs": [],
   "source": [
    "adata = ad.AnnData(X=X, obs=obs)\n",
    "adata.obsm[\"spatial\"] = adata.obs[[\"x_section\", \"y_section\", \"z_section\"]].values\n",
    "sc.pp.neighbors(\n",
    "    adata,\n",
    "    n_neighbors=15,\n",
    "    use_rep=\"X\",\n",
    "    knn=True,\n",
    "    transformer=None,\n",
    "    metric=\"euclidean\",\n",
    "    random_state=0,\n",
    "    key_added=f\"spatial\",\n",
    "    copy=False,\n",
    ")\n",
    "\n",
    "unique_subclasses = adata.obs[\"subclass\"].unique()\n",
    "pastel_palette = sns.color_palette(\"pastel\", len(unique_subclasses))\n",
    "subclass_color_map = dict(zip(unique_subclasses, pastel_palette))\n",
    "adata.obs[\"subclass_color\"] = adata.obs[\"subclass\"].astype(int).map(subclass_color_map)"
   ]
  },
  {
   "cell_type": "code",
   "execution_count": null,
   "metadata": {},
   "outputs": [],
   "source": [
    "adata.write_h5ad(paths[\"data_root\"] + \"mnist.h5ad\")\n",
    "adata"
   ]
  }
 ],
 "metadata": {
  "kernelspec": {
   "display_name": "txtox-torch-gpu",
   "language": "python",
   "name": "python3"
  },
  "language_info": {
   "codemirror_mode": {
    "name": "ipython",
    "version": 3
   },
   "file_extension": ".py",
   "mimetype": "text/x-python",
   "name": "python",
   "nbconvert_exporter": "python",
   "pygments_lexer": "ipython3",
   "version": "3.12.0"
  }
 },
 "nbformat": 4,
 "nbformat_minor": 2
}
