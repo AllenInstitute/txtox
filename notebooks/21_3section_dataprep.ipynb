{
 "cells": [
  {
   "cell_type": "code",
   "execution_count": null,
   "metadata": {},
   "outputs": [],
   "source": [
    "import anndata as ad\n",
    "import scanpy as sc\n",
    "\n",
    "from txtox.utils import get_paths\n",
    "\n",
    "path = get_paths()\n",
    "adata = ad.read_h5ad(path[\"data_root\"] + \"test_wb_hemi_v1.h5ad\")\n",
    "adata = adata[(adata.obs[\"z_section\"] > 6.3) & (adata.obs[\"z_section\"] < 6.9)].copy()\n",
    "adata.obs[\"z_section\"].unique()\n",
    "adatas = [adata[adata.obs[\"z_section\"] == z].copy() for z in adata.obs[\"z_section\"].unique()]"
   ]
  },
  {
   "cell_type": "code",
   "execution_count": null,
   "metadata": {},
   "outputs": [],
   "source": [
    "adata.obs[\"brain_section_label\"].unique()"
   ]
  },
  {
   "cell_type": "code",
   "execution_count": null,
   "metadata": {},
   "outputs": [],
   "source": [
    "for i, adata in enumerate(adatas):\n",
    "    for nn in [3, 5, 10, 15, 30, 50]:\n",
    "        adata.obsm[\"spatial\"] = adata.obs[[\"x_section\", \"y_section\", \"z_section\"]].values\n",
    "        sc.pp.neighbors(\n",
    "            adata,\n",
    "            n_neighbors=nn,\n",
    "            use_rep=f\"spatial\",\n",
    "            knn=True,\n",
    "            transformer=None,\n",
    "            metric=\"euclidean\",\n",
    "            random_state=0,\n",
    "            key_added=f\"spatial\",\n",
    "            copy=False,\n",
    "        )\n",
    "        adata.write_h5ad(path[\"data_root\"] + f\"3section_k{nn}_{i}.h5ad\")"
   ]
  }
 ],
 "metadata": {
  "kernelspec": {
   "display_name": "txtox-torch-gpu",
   "language": "python",
   "name": "python3"
  },
  "language_info": {
   "codemirror_mode": {
    "name": "ipython",
    "version": 3
   },
   "file_extension": ".py",
   "mimetype": "text/x-python",
   "name": "python",
   "nbconvert_exporter": "python",
   "pygments_lexer": "ipython3",
   "version": "3.12.0"
  }
 },
 "nbformat": 4,
 "nbformat_minor": 2
}
