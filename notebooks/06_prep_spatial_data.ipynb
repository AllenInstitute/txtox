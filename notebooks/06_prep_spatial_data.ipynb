{
 "cells": [
  {
   "cell_type": "code",
   "execution_count": 1,
   "metadata": {},
   "outputs": [
    {
     "name": "stderr",
     "output_type": "stream",
     "text": [
      "/home/rohan/miniconda3/envs/txtox-torch-gpu/lib/python3.12/site-packages/anndata/_core/aligned_df.py:68: ImplicitModificationWarning: Transforming to str index.\n",
      "  warnings.warn(\"Transforming to str index.\", ImplicitModificationWarning)\n"
     ]
    }
   ],
   "source": [
    "import numpy as np\n",
    "import pandas as pd\n",
    "import anndata as ad\n",
    "from txtox.utils import get_paths\n",
    "import scanpy as sc\n",
    "from sklearn.neighbors import KNeighborsTransformer\n",
    "\n",
    "\n",
    "path = get_paths()[\"data_root\"] + \"VISp.h5ad\"\n",
    "adata = ad.read_h5ad(path)\n",
    "adata.obsm[\"spatial\"] = adata.obs[[\"x_section\", \"y_section\", \"z_section\"]].values"
   ]
  },
  {
   "cell_type": "code",
   "execution_count": 2,
   "metadata": {},
   "outputs": [],
   "source": [
    "sc.pp.neighbors(\n",
    "    adata,\n",
    "    n_neighbors=15,\n",
    "    n_pcs=None,\n",
    "    use_rep=\"spatial\",\n",
    "    knn=True,\n",
    "    transformer=KNeighborsTransformer(n_neighbors=15, metric=\"minkowski\", p=2),\n",
    "    key_added=\"spatial\",\n",
    "    copy=False,\n",
    ")"
   ]
  },
  {
   "cell_type": "code",
   "execution_count": 3,
   "metadata": {},
   "outputs": [],
   "source": [
    "adata.write_h5ad(get_paths()[\"data_root\"] + \"VISp_nhood.h5ad\")"
   ]
  },
  {
   "cell_type": "code",
   "execution_count": 4,
   "metadata": {},
   "outputs": [],
   "source": [
    "nhood_idx = adata.obsp[\"spatial_connectivities\"][0, :].toarray()\n",
    "nhood_idx = np.where(nhood_idx)[1]\n",
    "dists = np.linalg.norm(adata.obsm[\"spatial\"][nhood_idx] - adata.obsm[\"spatial\"][0], axis=1) * 1e3\n",
    "\n",
    "nhood_dist = adata.obsp[\"spatial_distances\"][0, :].toarray()\n",
    "nhood_dist = nhood_dist[:, nhood_idx]\n",
    "dists_ = nhood_dist * 1e3\n",
    "\n",
    "assert np.allclose(dists, dists_, rtol=1e-5, atol=1e-8), \"Distances do not match\""
   ]
  }
 ],
 "metadata": {
  "kernelspec": {
   "display_name": "txtox-torch-gpu",
   "language": "python",
   "name": "python3"
  },
  "language_info": {
   "codemirror_mode": {
    "name": "ipython",
    "version": 3
   },
   "file_extension": ".py",
   "mimetype": "text/x-python",
   "name": "python",
   "nbconvert_exporter": "python",
   "pygments_lexer": "ipython3",
   "version": "3.12.0"
  }
 },
 "nbformat": 4,
 "nbformat_minor": 2
}
